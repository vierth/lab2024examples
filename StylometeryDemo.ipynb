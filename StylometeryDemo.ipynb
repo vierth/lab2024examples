{
 "cells": [
  {
   "cell_type": "markdown",
   "id": "46d63565",
   "metadata": {},
   "source": [
    "# Stylometry Demonstration\n",
    "This is a notebook we are using to do some basic analysis of style in multiple text files\n",
    "\n",
    "## File naming convention\n",
    "Author_title.txt\n",
    "\n",
    "## Opening multiple files:"
   ]
  },
  {
   "cell_type": "code",
   "execution_count": 53,
   "id": "1cee961f",
   "metadata": {},
   "outputs": [],
   "source": [
    "## import our libraries that we use\n",
    "import os\n",
    "from sklearn.feature_extraction.text import TfidfVectorizer\n",
    "from sklearn.decomposition import PCA\n",
    "import seaborn as sns\n",
    "import matplotlib.pyplot as plt\n",
    "import pandas as pd"
   ]
  },
  {
   "cell_type": "code",
   "execution_count": 54,
   "id": "f37aba8b",
   "metadata": {},
   "outputs": [
    {
     "name": "stdout",
     "output_type": "stream",
     "text": [
      "['doyle', 'collins', 'doyle', 'doyle', 'collins']\n"
     ]
    }
   ],
   "source": [
    "author_labels = []\n",
    "titles = []\n",
    "texts = []\n",
    "\n",
    "for root, dirs, files in os.walk('corpus'):\n",
    "    for fname in files:\n",
    "        with open(os.path.join(root, fname), 'r', encoding='utf8') as rf:\n",
    "            text = rf.read()\n",
    "            texts.append(text)\n",
    "            \n",
    "            # get the metadata:\n",
    "            meta_data = fname[:-4].split(\"_\")\n",
    "            author_labels.append(meta_data[0])\n",
    "            titles.append(meta_data[1])\n",
    "           \n",
    "print(author_labels)"
   ]
  },
  {
   "cell_type": "code",
   "execution_count": 55,
   "id": "c5df614d",
   "metadata": {},
   "outputs": [],
   "source": [
    "vectorizer = TfidfVectorizer(max_features=1000, use_idf=False)"
   ]
  },
  {
   "cell_type": "code",
   "execution_count": 56,
   "id": "d98a8abc",
   "metadata": {},
   "outputs": [],
   "source": [
    "doc_vecs = vectorizer.fit_transform(texts)"
   ]
  },
  {
   "cell_type": "code",
   "execution_count": 62,
   "id": "beb5e0cc",
   "metadata": {},
   "outputs": [
    {
     "name": "stdout",
     "output_type": "stream",
     "text": [
      "['able' 'ablewhite' 'about' 'above' 'absence' 'absolutely' 'account'\n",
      " 'across' 'act' 'add' 'added' 'address' 'addressed' 'advice' 'affairs'\n",
      " 'afraid' 'after' 'afternoon' 'afterwards' 'again' 'against' 'age' 'ago'\n",
      " 'agree' 'agreement' 'ah' 'air' 'all' 'allow' 'almost' 'alone' 'along'\n",
      " 'already' 'also' 'always' 'am' 'among' 'an' 'and' 'anne' 'another'\n",
      " 'answer' 'answered' 'anxiety' 'anxious' 'any' 'anyone' 'anything'\n",
      " 'appearance' 'appeared' 'are' 'arm' 'arms' 'arrival' 'arrived' 'as' 'ask'\n",
      " 'asked' 'assistance' 'astonishment' 'asylum' 'at' 'attempt' 'attention'\n",
      " 'aunt' 'away' 'back' 'bad' 'bank' 'barrymore' 'baskerville' 'be' 'became'\n",
      " 'because' 'bed' 'bedroom' 'been' 'before' 'beg' 'began' 'begin'\n",
      " 'beginning' 'behind' 'being' 'believe' 'bell' 'below' 'best' 'better'\n",
      " 'betteredge' 'between' 'beyond' 'birthday' 'black' 'blackwater' 'blake'\n",
      " 'blood' 'body' 'book' 'both' 'bottom' 'bound' 'box' 'boy' 'breakfast'\n",
      " 'bright' 'bring' 'broad' 'broke' 'broken' 'brother' 'brought' 'brown'\n",
      " 'bruff' 'burst' 'business' 'but' 'by' 'cab' 'call' 'called' 'came' 'can'\n",
      " 'candy' 'cannot' 'care' 'carefully' 'carriage' 'carried' 'case' 'cases'\n",
      " 'catherick' 'caught' 'cause' 'certain' 'certainly' 'chair' 'chance'\n",
      " 'change' 'changed' 'chapter' 'character' 'charge' 'charles' 'child'\n",
      " 'church' 'circumstances' 'city' 'clear' 'clements' 'clerk' 'clock'\n",
      " 'close' 'closed' 'clothes' 'coat' 'cold' 'colonel' 'colour' 'come'\n",
      " 'comes' 'coming' 'common' 'companion' 'company' 'complete' 'concerned'\n",
      " 'conclusion' 'conduct' 'confidence' 'consideration' 'continued'\n",
      " 'conversation' 'copy' 'copyright' 'corner' 'could' 'count' 'country'\n",
      " 'course' 'creature' 'cried' 'crime' 'cry' 'cuff' 'curiosity' 'cut'\n",
      " 'danger' 'dark' 'darkness' 'date' 'daughter' 'day' 'days' 'dead' 'deal'\n",
      " 'dear' 'death' 'deep' 'described' 'determined' 'diamond' 'did' 'didn'\n",
      " 'died' 'difficulty' 'dinner' 'direction' 'discover' 'discovered'\n",
      " 'discovery' 'distance' 'do' 'doctor' 'does' 'dog' 'doing' 'don'\n",
      " 'donations' 'done' 'door' 'doubt' 'down' 'downstairs' 'dr' 'drawing'\n",
      " 'drawn' 'dreadful' 'dress' 'dressed' 'drew' 'drive' 'dropped' 'drove'\n",
      " 'during' 'duty' 'each' 'early' 'earth' 'easy' 'effect' 'effort' 'either'\n",
      " 'electronic' 'else' 'empty' 'end' 'ended' 'engagement' 'england'\n",
      " 'english' 'enough' 'entered' 'entirely' 'escaped' 'even' 'evening'\n",
      " 'event' 'events' 'ever' 'every' 'everything' 'evidence' 'evidently'\n",
      " 'exactly' 'excellent' 'except' 'excuse' 'expect' 'expected' 'experience'\n",
      " 'explain' 'explanation' 'expressed' 'expression' 'extraordinary' 'eye'\n",
      " 'eyes' 'face' 'fact' 'facts' 'failed' 'fairlie' 'family' 'far' 'farther'\n",
      " 'father' 'fear' 'feel' 'feeling' 'feet' 'fell' 'fellow' 'felt' 'few'\n",
      " 'figure' 'find' 'finding' 'fine' 'fingers' 'fire' 'first' 'five' 'floor'\n",
      " 'follow' 'followed' 'following' 'foot' 'for' 'force' 'forget' 'form'\n",
      " 'forth' 'forward' 'fosco' 'found' 'foundation' 'four' 'franklin' 'free'\n",
      " 'fresh' 'friend' 'friends' 'frightened' 'frizinghall' 'from' 'front'\n",
      " 'full' 'further' 'future' 'garden' 'gate' 'gave' 'general' 'gentleman'\n",
      " 'get' 'getting' 'gilmore' 'girl' 'give' 'given' 'glad' 'glass' 'glyde'\n",
      " 'go' 'god' 'godfrey' 'going' 'gone' 'good' 'got' 'grave' 'great' 'grey'\n",
      " 'ground' 'gutenberg' 'had' 'hair' 'halcombe' 'half' 'hall' 'hand' 'hands'\n",
      " 'happen' 'happened' 'happy' 'hard' 'hardly' 'hartright' 'has' 'hat'\n",
      " 'have' 'having' 'he' 'head' 'health' 'hear' 'heard' 'hearing' 'heart'\n",
      " 'heavy' 'held' 'help' 'henry' 'her' 'here' 'herself' 'hidden' 'high'\n",
      " 'him' 'himself' 'his' 'hold' 'holmes' 'home' 'honour' 'hope' 'horror'\n",
      " 'hotel' 'hound' 'hour' 'hours' 'house' 'how' 'however' 'human' 'hundred'\n",
      " 'husband' 'idea' 'if' 'ill' 'immediately' 'importance' 'important'\n",
      " 'impossible' 'impression' 'in' 'indeed' 'indian' 'indians' 'influence'\n",
      " 'information' 'informed' 'innocent' 'inquiries' 'inquiry' 'inside'\n",
      " 'instant' 'instantly' 'instead' 'interest' 'interests' 'interview' 'into'\n",
      " 'is' 'it' 'its' 'itself' 'jennings' 'john' 'journey' 'just' 'justice'\n",
      " 'keep' 'keeping' 'kept' 'key' 'kind' 'kindly' 'knew' 'know' 'knowing'\n",
      " 'knowledge' 'known' 'knows' 'ladies' 'lady' 'ladyship' 'laid' 'language'\n",
      " 'large' 'last' 'late' 'later' 'laura' 'law' 'lawyer' 'lay' 'least'\n",
      " 'leave' 'leaving' 'led' 'left' 'less' 'lestrade' 'let' 'letter' 'letters'\n",
      " 'library' 'license' 'life' 'light' 'like' 'likely' 'limmeridge' 'line'\n",
      " 'lines' 'lips' 'literary' 'little' 'live' 'lived' 'living' 'll' 'london'\n",
      " 'long' 'longer' 'look' 'looked' 'looking' 'lord' 'lose' 'loss' 'lost'\n",
      " 'love' 'low' 'luker' 'madame' 'made' 'maid' 'make' 'making' 'man'\n",
      " 'manner' 'many' 'marian' 'marriage' 'married' 'master' 'matter' 'matters'\n",
      " 'may' 'me' 'mean' 'means' 'meant' 'medical' 'meet' 'memory' 'men'\n",
      " 'mention' 'mentioned' 'message' 'met' 'middle' 'might' 'mind' 'mine'\n",
      " 'minute' 'minutes' 'miss' 'mistress' 'moment' 'money' 'months'\n",
      " 'moonstone' 'moor' 'more' 'morning' 'morrow' 'mortimer' 'most' 'mother'\n",
      " 'motive' 'moved' 'mr' 'mrs' 'much' 'must' 'my' 'myself' 'mystery' 'name'\n",
      " 'narrative' 'natural' 'naturally' 'nature' 'near' 'nearer' 'nearly'\n",
      " 'necessary' 'necessity' 'need' 'neighbourhood' 'neither' 'never' 'new'\n",
      " 'news' 'next' 'night' 'nightgown' 'nine' 'no' 'nobody' 'none' 'nor' 'not'\n",
      " 'note' 'nothing' 'notice' 'noticed' 'now' 'number' 'object' 'obliged'\n",
      " 'observed' 'occasion' 'occurred' 'of' 'off' 'offered' 'office' 'often'\n",
      " 'oh' 'old' 'on' 'once' 'one' 'only' 'open' 'opened' 'opinion'\n",
      " 'opportunity' 'or' 'order' 'other' 'others' 'ought' 'our' 'out' 'outside'\n",
      " 'over' 'own' 'page' 'paid' 'pale' 'paper' 'papers' 'park' 'part'\n",
      " 'particular' 'pass' 'passage' 'passed' 'past' 'path' 'patient' 'penelope'\n",
      " 'people' 'percival' 'perfectly' 'perhaps' 'permission' 'person'\n",
      " 'personal' 'persons' 'pesca' 'place' 'placed' 'plain' 'plainly' 'please'\n",
      " 'pocket' 'point' 'pointed' 'police' 'poor' 'position' 'possession'\n",
      " 'possible' 'possibly' 'post' 'pounds' 'power' 'pray' 'presence' 'present'\n",
      " 'pretty' 'private' 'probably' 'proceedings' 'produced' 'project'\n",
      " 'promise' 'property' 'proved' 'public' 'purpose' 'put' 'putting'\n",
      " 'question' 'questions' 'quick' 'quiet' 'quietly' 'quite' 'rachel' 'rain'\n",
      " 'raised' 'ran' 'rather' 're' 'reach' 'reached' 'read' 'reading' 'ready'\n",
      " 'really' 'reason' 'receive' 'received' 'red' 'remain' 'remained'\n",
      " 'remarked' 'remember' 'remembered' 'repeated' 'replied' 'reply' 'report'\n",
      " 'respect' 'rest' 'result' 'return' 'returned' 'right' 'ring' 'risk'\n",
      " 'road' 'room' 'rooms' 'rosanna' 'rose' 'round' 'rubelle' 'run' 'safe'\n",
      " 'said' 'sake' 'same' 'sand' 'sat' 'save' 'saw' 'say' 'saying' 'says'\n",
      " 'search' 'second' 'secret' 'see' 'seeing' 'seem' 'seemed' 'seems' 'seen'\n",
      " 'self' 'send' 'sense' 'sent' 'sergeant' 'serious' 'servant' 'servants'\n",
      " 'service' 'set' 'settled' 'seven' 'several' 'shall' 'sharp' 'she'\n",
      " 'sherlock' 'shook' 'short' 'should' 'shoulder' 'show' 'showed' 'shown'\n",
      " 'shut' 'side' 'sight' 'sign' 'silence' 'silent' 'since' 'single' 'sir'\n",
      " 'sister' 'sit' 'sitting' 'situation' 'six' 'sleep' 'slowly' 'small' 'so'\n",
      " 'society' 'some' 'something' 'sometimes' 'son' 'soon' 'sorry' 'sort'\n",
      " 'soul' 'sound' 'speak' 'speaking' 'spearman' 'spirits' 'spoke' 'spoken'\n",
      " 'square' 'st' 'stand' 'standing' 'stapleton' 'start' 'started' 'state'\n",
      " 'statement' 'states' 'station' 'step' 'steps' 'still' 'stone' 'stood'\n",
      " 'stop' 'stopped' 'story' 'straight' 'strange' 'stranger' 'street'\n",
      " 'strong' 'struck' 'subject' 'such' 'sudden' 'suddenly' 'suggested'\n",
      " 'summer' 'superintendent' 'suppose' 'sure' 'surely' 'surprise'\n",
      " 'surprised' 'suspected' 'suspicion' 'table' 'take' 'taken' 'taking'\n",
      " 'talk' 'talking' 'tears' 'tell' 'telling' 'temper' 'ten' 'terms'\n",
      " 'terrible' 'than' 'thank' 'that' 'the' 'their' 'them' 'themselves' 'then'\n",
      " 'there' 'therefore' 'these' 'they' 'thing' 'things' 'think' 'thinking'\n",
      " 'third' 'this' 'those' 'though' 'thought' 'thoughts' 'thousand' 'three'\n",
      " 'through' 'thus' 'till' 'time' 'times' 'to' 'together' 'told' 'too'\n",
      " 'took' 'top' 'towards' 'town' 'trademark' 'train' 'trees' 'tried'\n",
      " 'trouble' 'true' 'trust' 'truth' 'try' 'trying' 'turn' 'turned' 'turning'\n",
      " 'twenty' 'two' 'uncle' 'under' 'understand' 'united' 'unless' 'until'\n",
      " 'up' 'upon' 'upstairs' 'us' 'use' 'used' 'useless' 'usual' 've'\n",
      " 'verinder' 'very' 'view' 'village' 'visit' 'visitor' 'voice' 'wait'\n",
      " 'waited' 'waiting' 'walk' 'walked' 'walking' 'wall' 'walter' 'want'\n",
      " 'wanted' 'was' 'watch' 'water' 'watson' 'way' 'we' 'week' 'well' 'went'\n",
      " 'were' 'what' 'whatever' 'when' 'where' 'whether' 'which' 'while'\n",
      " 'whispered' 'white' 'who' 'whole' 'whom' 'whose' 'why' 'wife' 'wild'\n",
      " 'will' 'window' 'wish' 'wished' 'with' 'within' 'without' 'woman' 'women'\n",
      " 'won' 'word' 'words' 'work' 'works' 'world' 'worse' 'worth' 'would'\n",
      " 'write' 'writing' 'written' 'wrong' 'wrote' 'year' 'years' 'yes'\n",
      " 'yesterday' 'yet' 'you' 'young' 'your' 'yours' 'yourself']\n"
     ]
    }
   ],
   "source": [
    "vocab = vectorizer.get_feature_names_out()\n",
    "print(vocab)"
   ]
  },
  {
   "cell_type": "code",
   "execution_count": 58,
   "id": "4cca7bfe",
   "metadata": {},
   "outputs": [],
   "source": [
    "pca = PCA()\n",
    "\n",
    "my_results = pca.fit_transform(doc_vecs.toarray())\\"
   ]
  },
  {
   "cell_type": "code",
   "execution_count": 65,
   "id": "d6898457",
   "metadata": {},
   "outputs": [
    {
     "name": "stdout",
     "output_type": "stream",
     "text": [
      "[[-1.08422708e-02  1.57035389e-02 -3.97954301e-03 ...  2.52003758e-03\n",
      "   3.53014669e-04  1.87235475e-04]\n",
      " [ 1.58549219e-03 -1.52443908e-02  3.63567449e-03 ... -1.02649371e-01\n",
      "  -5.26078834e-03 -8.73492503e-03]\n",
      " [-7.49188649e-04 -5.01465088e-02 -1.04963481e-03 ... -2.42704181e-02\n",
      "  -1.75287294e-04 -6.35205774e-04]\n",
      " [-9.50303925e-03 -9.34682329e-03 -1.27715394e-02 ...  9.31188971e-02\n",
      "   6.33012536e-03  8.80477925e-03]\n",
      " [-2.05351450e-01 -2.66109358e-01 -3.74194783e-01 ...  2.18199098e-02\n",
      "   2.25185443e-03  6.56648560e-03]]\n"
     ]
    }
   ],
   "source": [
    "components = pca.components_\n"
   ]
  },
  {
   "cell_type": "code",
   "execution_count": 60,
   "id": "38ca414d",
   "metadata": {},
   "outputs": [],
   "source": [
    "data_dictionary = {\"authors\": author_labels, \"titles\": titles, \n",
    "                   \"pc1\":my_results[:,0], \"pc2\":my_results[:,1]}"
   ]
  },
  {
   "cell_type": "code",
   "execution_count": 61,
   "id": "8ef36bc1",
   "metadata": {},
   "outputs": [
    {
     "data": {
      "text/plain": [
       "<Axes: xlabel='pc1', ylabel='pc2'>"
      ]
     },
     "execution_count": 61,
     "metadata": {},
     "output_type": "execute_result"
    },
    {
     "data": {
      "image/png": "[encoded data removed]",
      "text/plain": [
       "<Figure size 640x480 with 1 Axes>"
      ]
     },
     "metadata": {},
     "output_type": "display_data"
    }
   ],
   "source": [
    "df = pd.DataFrame(data_dictionary)\n",
    "\n",
    "sns.scatterplot(df, x=\"pc1\", y=\"pc2\", hue=\"authors\")"
   ]
  },
  {
   "cell_type": "code",
   "execution_count": null,
   "id": "a13384ba",
   "metadata": {},
   "outputs": [],
   "source": []
  }
 ],
 "metadata": {
  "kernelspec": {
   "display_name": "Python 3 (ipykernel)",
   "language": "python",
   "name": "python3"
  },
  "language_info": {
   "codemirror_mode": {
    "name": "ipython",
    "version": 3
   },
   "file_extension": ".py",
   "mimetype": "text/x-python",
   "name": "python",
   "nbconvert_exporter": "python",
   "pygments_lexer": "ipython3",
   "version": "3.11.4"
  }
 },
 "nbformat": 4,
 "nbformat_minor": 5
}
